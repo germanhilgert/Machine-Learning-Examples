{
 "cells": [
  {
   "cell_type": "markdown",
   "metadata": {},
   "source": [
    "## Machine Learning Example - StratifiedKFold y KFold with Decision Tree Classifier\n",
    "\n",
    "- Name: Germán Hilgert\n",
    "- LinkedIn: https://www.linkedin.com/in/german-hilgert/\n",
    "- Date: 23/10/22"
   ]
  },
  {
   "cell_type": "code",
   "execution_count": null,
   "metadata": {},
   "outputs": [],
   "source": [
    "#Importamos las librerías\n",
    "import pandas as pd\n",
    "import numpy as np\n",
    "import matplotlib.pyplot as plt\n",
    "\n",
    "df_car = pd.read_csv(\"data/car.data\", sep = \",\", header=None)\n",
    "df_car.head()"
   ]
  },
  {
   "cell_type": "code",
   "execution_count": null,
   "metadata": {},
   "outputs": [],
   "source": [
    "#Dimension del dataset\n",
    "print(df_car.shape)"
   ]
  },
  {
   "cell_type": "code",
   "execution_count": null,
   "metadata": {},
   "outputs": [],
   "source": [
    "#Tipo de dato para cada columna\n",
    "df_car.dtypes"
   ]
  },
  {
   "cell_type": "code",
   "execution_count": null,
   "metadata": {
    "scrolled": true
   },
   "outputs": [],
   "source": [
    "#Información del dataset\n",
    "df_car.info()"
   ]
  },
  {
   "cell_type": "code",
   "execution_count": null,
   "metadata": {},
   "outputs": [],
   "source": [
    "#Renombramos las columnas para lograr una mayor interpretacion\n",
    "df_car.rename(columns={0:'x0', 1:'x1',2:'x2',3:'x3',4:'x4',5:'x5',6:'y'}, inplace=True)"
   ]
  },
  {
   "cell_type": "code",
   "execution_count": null,
   "metadata": {},
   "outputs": [],
   "source": [
    "#Verificamos el cambio realizado\n",
    "df_car.columns"
   ]
  },
  {
   "cell_type": "code",
   "execution_count": null,
   "metadata": {},
   "outputs": [],
   "source": [
    "#Separacion en X e y\n",
    "y = df_car['y'].to_numpy()\n",
    "\n",
    "for n in df_car.columns:\n",
    "    if str(df_car[n].dtype) == 'object' or str(df_car[n].dtype) == 'category':\n",
    "        df_car[n] = df_car[n].astype('category').cat.codes\n",
    "X = df_car.drop(['y'], axis=1).to_numpy()\n",
    "df_car.head()"
   ]
  },
  {
   "cell_type": "markdown",
   "metadata": {},
   "source": [
    "Iniciaremos aplicando el método de **StratifiedKFold** para posteriormente comparar los resultados obtenidos con **KFold**. "
   ]
  },
  {
   "cell_type": "code",
   "execution_count": null,
   "metadata": {},
   "outputs": [],
   "source": [
    "#StratifiedKFold - Train y Test\n",
    "from sklearn.model_selection import StratifiedKFold\n",
    "\n",
    "skf_car = StratifiedKFold(n_splits=5, random_state=0, shuffle=True)\n",
    "train, test = list(skf_car.split(X, y))[0]\n",
    "X_train, X_test = X[train], X[test]\n",
    "y_train, y_test = y[train], y[test]"
   ]
  },
  {
   "cell_type": "code",
   "execution_count": null,
   "metadata": {
    "scrolled": true
   },
   "outputs": [],
   "source": [
    "list(skf_car.split(X, y))"
   ]
  },
  {
   "cell_type": "code",
   "execution_count": null,
   "metadata": {},
   "outputs": [],
   "source": [
    "%%time\n",
    "#Entrenar arbol y encontrar el mejor alpha con GridSearchCV y StratifiedKFold\n",
    "\n",
    "from sklearn.tree import DecisionTreeClassifier\n",
    "from sklearn.model_selection import GridSearchCV\n",
    "\n",
    "model = DecisionTreeClassifier()\n",
    "\n",
    "params = list(np.arange(0.0, 1., step=0.05))\n",
    "cv = StratifiedKFold(n_splits=5, random_state=0, shuffle=True)\n",
    "\n",
    "tunner_car = GridSearchCV(estimator=model, param_grid={'ccp_alpha':params}, cv=cv)\n",
    "tunner_car = tunner_car.fit(X_train, y_train)"
   ]
  },
  {
   "cell_type": "code",
   "execution_count": null,
   "metadata": {},
   "outputs": [],
   "source": [
    "%%time\n",
    "print('Train score StratifiedKFold: ' + str(tunner_car.score(X_train, y_train)))\n",
    "print('Test score StratifiedKFold: ' + str(tunner_car.score(X_test, y_test)))"
   ]
  },
  {
   "cell_type": "code",
   "execution_count": null,
   "metadata": {},
   "outputs": [],
   "source": [
    "#KFold\n",
    "from sklearn.model_selection import KFold\n",
    "KFold_car = KFold(n_splits=5, random_state=0, shuffle=True)\n",
    "train_2, test_2 = list(KFold_car.split(X))[0]\n",
    "X_train_2, X_test_2 = X[train_2], X[test_2]\n",
    "y_train_2, y_test_2 = y[train_2], y[test_2]"
   ]
  },
  {
   "cell_type": "code",
   "execution_count": null,
   "metadata": {},
   "outputs": [],
   "source": [
    "%%time\n",
    "#Entrenar arbol y encontrar el mejor alpha con GridSearchCV y KFold\n",
    "\n",
    "model_2 = DecisionTreeClassifier()\n",
    "\n",
    "params_2 = list(np.arange(0.0, 1., step=0.05))\n",
    "cv_2 = KFold(n_splits=5, random_state=0, shuffle=True)\n",
    "\n",
    "tunner_car2 = GridSearchCV(estimator=model_2, param_grid={'ccp_alpha':params_2}, cv=cv_2)\n",
    "_=tunner_car2.fit(X_train_2, y_train_2)"
   ]
  },
  {
   "cell_type": "code",
   "execution_count": null,
   "metadata": {},
   "outputs": [],
   "source": [
    "%%time\n",
    "#Metricas\n",
    "print('Train score KFold: ' + str(tunner_car2.score(X_train_2, y_train_2)))\n",
    "print('Test score KFold: ' + str(tunner_car2.score(X_test_2, y_test_2)))"
   ]
  },
  {
   "cell_type": "markdown",
   "metadata": {},
   "source": [
    "**Conclusiones e Interpretaciones del dataset: car.data**\n",
    "\n",
    "Si comenzamos nuestro análisis sobre el método de StratifiedKFold, se observan los siguientes valores para las métricas obtenidas:\n",
    "\n",
    "* Train score StratifiedKFold: 1.0\n",
    "* Test score StratifiedKFold: 0.9826589595375722\n",
    "\n",
    "Claramente, podemos identificar que nuestro modelo se está \"sobreajustando\", razón inicial que podría deberse al pequeño tamaño del dataset 1728 registros respectivamente.\n",
    "\n",
    "Ahora bien, analizando el método de KFold, los resultados de Train y Test se detallan a continuación: \n",
    "\n",
    "* Train score KFold: 1.0\n",
    "* Test score KFold: 0.9682080924855492\n",
    "\n",
    "Para este caso en particular para las métricas obtenidas, no se observan grandes mejoras al implementar este tipo de método de CrossValidation, dado que el algoritmo aun persiste sobreajustado y el Test Score se ve reducido muy levemente. "
   ]
  },
  {
   "cell_type": "markdown",
   "metadata": {},
   "source": [
    "\n",
    "\n",
    "\n",
    "\n",
    "\n",
    "\n",
    "\n",
    "\n",
    "\n",
    "\n",
    "\n"
   ]
  },
  {
   "cell_type": "markdown",
   "metadata": {},
   "source": [
    "\n",
    "\n",
    "\n",
    "\n",
    "\n",
    "\n",
    "\n",
    "\n",
    "\n",
    "\n",
    "\n"
   ]
  },
  {
   "cell_type": "markdown",
   "metadata": {},
   "source": [
    "# Actividad alumnos"
   ]
  },
  {
   "cell_type": "markdown",
   "metadata": {},
   "source": [
    "**Consignas**:\n",
    "    \n",
    "Se deberá replicar el ejemplo anterior realizado, sobre el dataset propuesto para el método de StratifiedKFold y KFold.\n",
    "El algoritmo a entrenar será un DecisionTreeClassifier. Finalmente se solicita elaborar una pequeña conclusión e interpretación de las aplicaciones realizadas.\n",
    "\n",
    "Aclaración: La variable de interes es \"target\"."
   ]
  },
  {
   "cell_type": "code",
   "execution_count": null,
   "metadata": {},
   "outputs": [],
   "source": [
    "#Importamos el segundo data set\n",
    "df_aug = pd.read_csv(\"data/aug_train.csv\", sep = \",\")\n",
    "df_aug"
   ]
  },
  {
   "cell_type": "code",
   "execution_count": null,
   "metadata": {},
   "outputs": [],
   "source": [
    "#Dimension del dataset\n",
    "print(df_aug.shape)"
   ]
  },
  {
   "cell_type": "code",
   "execution_count": null,
   "metadata": {},
   "outputs": [],
   "source": [
    "#Tipo de dato para cada columna\n",
    "df_aug.dtypes"
   ]
  },
  {
   "cell_type": "code",
   "execution_count": null,
   "metadata": {},
   "outputs": [],
   "source": [
    "#Información del dataset\n",
    "df_aug.info()"
   ]
  },
  {
   "cell_type": "code",
   "execution_count": null,
   "metadata": {},
   "outputs": [],
   "source": [
    "#Separacin en X e y\n",
    "y = df_aug['target'].to_numpy()\n",
    "\n",
    "for n in df_aug.columns:\n",
    "    if str(df_aug[n].dtype) == 'object' or str(df_aug[n].dtype) == 'category':\n",
    "        df_aug[n] = df_aug[n].astype('category').cat.codes\n",
    "X = df_aug.drop(['target'], axis=1).to_numpy()\n",
    "df_aug.head()"
   ]
  },
  {
   "cell_type": "code",
   "execution_count": null,
   "metadata": {},
   "outputs": [],
   "source": [
    "#Dividir Train y Test para CV - StratifiedKFold\n",
    "from sklearn.model_selection import StratifiedKFold\n",
    "skf_aug = StratifiedKFold(n_splits=5, random_state=0, shuffle=True)\n",
    "train, test = list(skf_aug.split(X, y))[0]\n",
    "X_train, X_test = X[train], X[test]\n",
    "y_train, y_test = y[train], y[test]"
   ]
  },
  {
   "cell_type": "code",
   "execution_count": null,
   "metadata": {},
   "outputs": [],
   "source": [
    "%%time\n",
    "#Entrenar arbol y encontrar el mejor alpha con GridSearchCV y StratifiedKFold\n",
    "from sklearn.tree import DecisionTreeClassifier\n",
    "from sklearn.model_selection import GridSearchCV\n",
    "\n",
    "model = DecisionTreeClassifier()\n",
    "params = list(np.arange(0.0, 1., step=0.05))\n",
    "cv = StratifiedKFold(n_splits=5, random_state=0, shuffle=True)\n",
    "tunner_aug = GridSearchCV(estimator=model, param_grid={'ccp_alpha':params}, cv=cv)\n",
    "tunner_aug = tunner_aug.fit(X_train, y_train)"
   ]
  },
  {
   "cell_type": "code",
   "execution_count": null,
   "metadata": {},
   "outputs": [],
   "source": [
    "%%time\n",
    "print('Train score StratifiedKFold: ' + str(tunner_aug.score(X_train, y_train)))\n",
    "print('Test score StratifiedKFold: ' + str(tunner_aug.score(X_test, y_test)))"
   ]
  },
  {
   "cell_type": "code",
   "execution_count": null,
   "metadata": {},
   "outputs": [],
   "source": [
    "%%time\n",
    "#KFold\n",
    "from sklearn.model_selection import KFold\n",
    "KFold_aug= KFold(n_splits=5, random_state=0, shuffle=True)\n",
    "train_2, test_2 = list(KFold_aug.split(X))[0]\n",
    "X_train_2, X_test_2 = X[train_2], X[test_2]\n",
    "y_train_2, y_test_2 = y[train_2], y[test_2]"
   ]
  },
  {
   "cell_type": "code",
   "execution_count": null,
   "metadata": {},
   "outputs": [],
   "source": [
    "%%time\n",
    "#Entrenar arbol y encontrar el mejor alpha con GridSearchCV y KFold\n",
    "\n",
    "model = DecisionTreeClassifier()\n",
    "params = list(np.arange(0.0, 1., step=0.05))\n",
    "cv = KFold(n_splits=5, random_state=0, shuffle=True)\n",
    "tunner_aug2 = GridSearchCV(estimator=model, param_grid={'ccp_alpha':params}, cv=cv)\n",
    "tunner_aug2 = tunner_aug2.fit(X_train_2, y_train_2)"
   ]
  },
  {
   "cell_type": "code",
   "execution_count": null,
   "metadata": {},
   "outputs": [],
   "source": [
    "#Metricas\n",
    "print('Train score KFold: ' + str(tunner_aug2.score(X_train_2, y_train_2)))\n",
    "print('Test score KFold: ' + str(tunner_aug2.score(X_test_2, y_test_2)))"
   ]
  },
  {
   "cell_type": "markdown",
   "metadata": {},
   "source": [
    "**Conclusionees e Interpretaciones del dataset: aug_train**\n",
    "\n",
    "Para este análisis en particular, si comenzamos observando los valores obtenidos para Train y Test con el método de StratifiedKFold ambos son muy similares entre sí, aspecto que es destacable para nuestro modelo. A continuación, se mencionan las métricas obtenidas: \n",
    "\n",
    "* Train score StratifiedKFold: 0.7830484144590891\n",
    "* Test score StratifiedKFold: 0.7794885177453027\n",
    "\n",
    "Ahora bien, en la aplicación del método de KFold, los resultados alcanzados nuevamente son similares en Train y Test, particularmente los valores rondan cerca de 0.78. \n",
    "\n",
    "Finalmente, se detallan las métricas obtenidas para KFold en Train y Test.\n",
    "\n",
    "* Train score KFold: 0.7818086911131411\n",
    "* Test score KFold: 0.784446764091858"
   ]
  }
 ],
 "metadata": {
  "kernelspec": {
   "display_name": "Python 3 (ipykernel)",
   "language": "python",
   "name": "python3"
  },
  "language_info": {
   "codemirror_mode": {
    "name": "ipython",
    "version": 3
   },
   "file_extension": ".py",
   "mimetype": "text/x-python",
   "name": "python",
   "nbconvert_exporter": "python",
   "pygments_lexer": "ipython3",
   "version": "3.9.12"
  },
  "varInspector": {
   "cols": {
    "lenName": 16,
    "lenType": 16,
    "lenVar": 40
   },
   "kernels_config": {
    "python": {
     "delete_cmd_postfix": "",
     "delete_cmd_prefix": "del ",
     "library": "var_list.py",
     "varRefreshCmd": "print(var_dic_list())"
    },
    "r": {
     "delete_cmd_postfix": ") ",
     "delete_cmd_prefix": "rm(",
     "library": "var_list.r",
     "varRefreshCmd": "cat(var_dic_list()) "
    }
   },
   "types_to_exclude": [
    "module",
    "function",
    "builtin_function_or_method",
    "instance",
    "_Feature"
   ],
   "window_display": false
  }
 },
 "nbformat": 4,
 "nbformat_minor": 4
}
